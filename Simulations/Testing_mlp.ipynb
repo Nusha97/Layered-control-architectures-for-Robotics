{
 "cells": [
  {
   "cell_type": "code",
   "execution_count": null,
   "id": "fe24eeb8",
   "metadata": {},
   "outputs": [],
   "source": [
    "!pip install tensorflow"
   ]
  },
  {
   "cell_type": "code",
   "execution_count": null,
   "id": "02b2b070",
   "metadata": {},
   "outputs": [],
   "source": [
    "pip install --upgrade \"jax[cuda]\""
   ]
  },
  {
   "cell_type": "code",
   "execution_count": null,
   "id": "78fb49b4",
   "metadata": {},
   "outputs": [],
   "source": [
    "%load_ext autoreload\n",
    "%autoreload 2"
   ]
  },
  {
   "cell_type": "markdown",
   "id": "eb721517",
   "metadata": {},
   "source": [
    "## Testing polynomial trajectory generation"
   ]
  },
  {
   "cell_type": "code",
   "execution_count": null,
   "id": "9f1c4660",
   "metadata": {},
   "outputs": [],
   "source": [
    "from generate_data import generate_polynomial_trajectory\n",
    "import numpy as np\n",
    "import matplotlib.pyplot as plt\n",
    "\n",
    "start = np.zeros(3)\n",
    "end = np.ones(3)\n",
    "T = 101\n",
    "order = 2\n",
    "\n",
    "trajectory = generate_polynomial_trajectory(start, end, T, order)\n",
    "\n",
    "print(trajectory.shape)\n",
    "\n",
    "# Plot the results\n",
    "plt.plot(trajectory[:, 0], trajectory[:, 1])\n",
    "plt.title('Polynomial Reference Trajectory')\n",
    "plt.xlabel('Time Step')\n",
    "plt.ylabel('State')\n",
    "plt.show()"
   ]
  },
  {
   "cell_type": "markdown",
   "id": "61de4d2e",
   "metadata": {},
   "source": [
    "## Data generation"
   ]
  },
  {
   "cell_type": "code",
   "execution_count": null,
   "id": "bf07d926",
   "metadata": {},
   "outputs": [],
   "source": [
    "from generate_data import gen_uni_training_data, ILQR, unicycle, save_object\n",
    "import jax.numpy as onp\n",
    "\n",
    "uni_ilqr1 = ILQR(unicycle, maxiter=1000)\n",
    "num_iter = 50\n",
    "xtraj, rtraj, rdottraj, costs = gen_uni_training_data(uni_ilqr1, num_iter, 6, 3)\n",
    "\n",
    "# Save as pickle file\n",
    "save_object([xtraj, rtraj, rdottraj, costs], 'data/uni_train-nonoise2.pkl')"
   ]
  },
  {
   "cell_type": "markdown",
   "id": "1f9a8259",
   "metadata": {},
   "source": [
    "## Load data"
   ]
  },
  {
   "cell_type": "code",
   "execution_count": null,
   "id": "4dd16378",
   "metadata": {},
   "outputs": [],
   "source": [
    "from helper_functions import compute_tracking_cost\n",
    "from mlp_jax import MLP\n",
    "from generate_data import load_object\n",
    "from model_learning import TrajDataset, train_model, eval_model, numpy_collate, save_checkpoint, restore_checkpoint\n",
    "import numpy as np\n",
    "\n",
    "\n",
    "file_path = r\"/home/anusha/Research/Layered-architecture-quadrotor-control/Simulations/data/uni_train-nonoise2.pkl\"\n",
    "unicycle_data = load_object(file_path)\n",
    "\n",
    "actual_traj = np.vstack(unicycle_data[0])\n",
    "ref_traj = np.vstack(unicycle_data[1])\n",
    "rdot_traj = np.vstack(unicycle_data[2])\n",
    "print(actual_traj.shape)\n",
    "print(ref_traj.shape)\n",
    "print(rdot_traj.shape)"
   ]
  },
  {
   "cell_type": "markdown",
   "id": "5ed0f745",
   "metadata": {},
   "source": [
    "## Adding noise to trajectories"
   ]
  },
  {
   "cell_type": "code",
   "execution_count": null,
   "id": "5c06ff31",
   "metadata": {},
   "outputs": [],
   "source": [
    "from helper_functions import forward_simulate, compute_rdot\n",
    "import jax\n",
    "\n",
    "noise_level = [0.001, 0.002, 0.003, 0.004, 0.005]\n",
    "\n",
    "Kp = 50 * np.array([[2, 0, 0], [0, 1, 0]])\n",
    "key = jax.random.PRNGKey(793)\n",
    "Kd = 50 * jax.random.uniform(key=key, shape=(2, 3))\n",
    "N = 101\n",
    "\n",
    "for i in range(len(noise_level)):\n",
    "    for j in range(num_iter):\n",
    "        noise = np.random.normal(0, noise_level[i], (N, 2))\n",
    "        noisy_ref = np.zeros(shape=(N, 3))\n",
    "        noisy_ref[:, 0] = ref_traj[j*N:(j+1)*N, 0] + noise[:, 0]\n",
    "        noisy_ref[:, 1:3] = ref_traj[j*N:(j+1)*N, 1:3]\n",
    "        ref_traj = np.vstack([ref_traj, noisy_ref])\n",
    "        cost, act = forward_simulate(noisy_ref[0, :], noisy_ref, Kp, Kd, N)\n",
    "        actual_traj = np.vstack([actual_traj, act])\n",
    "        rdot = compute_rdot(noisy_ref, 0.01)\n",
    "        rdot_traj = np.vstack([rdot_traj, rdot])"
   ]
  },
  {
   "cell_type": "code",
   "execution_count": null,
   "id": "379efa13",
   "metadata": {},
   "outputs": [],
   "source": [
    "print(actual_traj.shape)\n",
    "print(ref_traj.shape)\n",
    "print(rdot_traj.shape)"
   ]
  },
  {
   "cell_type": "markdown",
   "id": "a921a6e5",
   "metadata": {},
   "source": [
    "## Look at trajectories"
   ]
  },
  {
   "cell_type": "code",
   "execution_count": null,
   "id": "81991bc1",
   "metadata": {},
   "outputs": [],
   "source": [
    "%matplotlib notebook"
   ]
  },
  {
   "cell_type": "code",
   "execution_count": null,
   "id": "3b71ff08",
   "metadata": {
    "scrolled": true
   },
   "outputs": [],
   "source": [
    "import matplotlib.pyplot as plt\n",
    "\n",
    "plt.figure()\n",
    "Tstart = 0\n",
    "Tend = 5050\n",
    "plt.plot(ref_traj[Tstart:Tend, 0], ref_traj[Tstart:Tend, 1], 'r-', \n",
    "         actual_traj[Tstart:Tend, 0], actual_traj[Tstart:Tend, 1], 'b--')"
   ]
  },
  {
   "cell_type": "code",
   "execution_count": null,
   "id": "581e9bc8",
   "metadata": {},
   "outputs": [],
   "source": [
    "plt.figure()\n",
    "Tstart = 0\n",
    "Tend = 6006\n",
    "plt.plot(ref_traj[Tstart:Tend, 2], 'r-', \n",
    "         actual_traj[Tstart:Tend, 2], 'b--')"
   ]
  },
  {
   "cell_type": "markdown",
   "id": "491a57b9",
   "metadata": {},
   "source": [
    "## Prepare data with augmented states and compute cost"
   ]
  },
  {
   "cell_type": "code",
   "execution_count": null,
   "id": "e4621d91",
   "metadata": {},
   "outputs": [],
   "source": [
    "import jax\n",
    "\n",
    "N = 101\n",
    "q = 2\n",
    "p = 3 + 3*N\n",
    "traj_len = ref_traj.shape[0]\n",
    "\n",
    "# ref_chunks = np.vstack([ref_traj[i*100+5:(i+1)*100-5, :] for i in range(0, len(ref_traj))])\n",
    "# actual_chunks = np.vstack([actual_traj[i*101+5:(i+1)*101-6, :] for i in range(0, len(actual_traj))])\n",
    "\n",
    "Kp = 50 * np.array([[2, 0, 0], [0, 1, 0]])\n",
    "key = jax.random.PRNGKey(793)\n",
    "Kd = 50 * jax.random.uniform(key=key, shape=(2, 3))\n",
    "\n",
    "cost_traj, input_traj = compute_tracking_cost(ref_traj, actual_traj, rdot_traj, Kp, Kd, N)\n",
    "\n",
    "aug_state = [np.append(actual_traj[r, :], ref_traj[r:r+N, :]) for r in range(len(ref_traj)-N)]\n",
    "aug_state = np.array(aug_state)\n",
    "\n",
    "Tstart=0\n",
    "Tend=traj_len-2000\n",
    "\n",
    "dataset = TrajDataset(aug_state[Tstart:Tend-1, :].astype('float64'), input_traj[Tstart:Tend-1, :].astype('float64'),\n",
    "                               cost_traj[Tstart:Tend-1, None].astype('float64'), aug_state[Tstart+1:Tend, :].astype('float64'))"
   ]
  },
  {
   "cell_type": "markdown",
   "id": "1d00c009",
   "metadata": {},
   "source": [
    "## Define model parameters and train"
   ]
  },
  {
   "cell_type": "code",
   "execution_count": null,
   "id": "4fd346b8",
   "metadata": {},
   "outputs": [],
   "source": [
    "# Load model parameters using yaml file\n",
    "import ruamel.yaml as yaml\n",
    "\n",
    "with open(r\"/home/anusha/Research/Layered-architecture-quadrotor-control/Simulations/data/params.yaml\") as f:\n",
    "        yaml_data = yaml.load(f, Loader=yaml.RoundTripLoader)\n",
    "\n",
    "num_hidden = yaml_data['num_hidden']\n",
    "batch_size = yaml_data['batch_size']\n",
    "learning_rate = yaml_data['learning_rate']\n",
    "num_epochs = yaml_data['num_epochs']\n",
    "model_save = yaml_data['save_path']"
   ]
  },
  {
   "cell_type": "code",
   "execution_count": null,
   "id": "95f77e34",
   "metadata": {},
   "outputs": [],
   "source": [
    "model = MLP(num_hidden=num_hidden, num_outputs=1)\n",
    "# Printing the model shows its attributes\n",
    "print(model)"
   ]
  },
  {
   "cell_type": "code",
   "execution_count": null,
   "id": "36c7035a",
   "metadata": {},
   "outputs": [],
   "source": [
    "rng = jax.random.PRNGKey(427)\n",
    "rng, inp_rng, init_rng = jax.random.split(rng, 3)\n",
    "inp = jax.random.normal(inp_rng, (batch_size, p))  # Batch size 64, input size p\n",
    "# Initialize the model\n",
    "params = model.init(init_rng, inp)"
   ]
  },
  {
   "cell_type": "code",
   "execution_count": null,
   "id": "437ce175",
   "metadata": {},
   "outputs": [],
   "source": [
    "# Run only if error in next cell\n",
    "try:\n",
    "    import optax\n",
    "except ModuleNotFoundError: \n",
    "    !pip install --quiet optax\n",
    "    import optax "
   ]
  },
  {
   "cell_type": "code",
   "execution_count": null,
   "id": "2663c7f6",
   "metadata": {},
   "outputs": [],
   "source": [
    "import optax # Run previous cell if optax not found\n",
    "# Input to the optimizer are optimizer settings like learning rate\n",
    "optimizer = optax.adam(learning_rate=learning_rate)"
   ]
  },
  {
   "cell_type": "code",
   "execution_count": null,
   "id": "cfa8a5d4",
   "metadata": {},
   "outputs": [],
   "source": [
    "from flax.training import train_state\n",
    "\n",
    "model_state = train_state.TrainState.create(apply_fn=model.apply,\n",
    "                                            params=params,\n",
    "                                            tx=optimizer)"
   ]
  },
  {
   "cell_type": "code",
   "execution_count": null,
   "id": "b7669b80",
   "metadata": {},
   "outputs": [],
   "source": [
    "import torch.utils.data as data\n",
    "\n",
    "train_data_loader = data.DataLoader(dataset, batch_size=batch_size, shuffle=True, collate_fn=numpy_collate)\n",
    "trained_model_state = train_model(model_state, train_data_loader, num_epochs=num_epochs)"
   ]
  },
  {
   "cell_type": "code",
   "execution_count": null,
   "id": "7c2d5956",
   "metadata": {},
   "outputs": [],
   "source": [
    "eval_model(trained_model_state, train_data_loader, batch_size)"
   ]
  },
  {
   "cell_type": "code",
   "execution_count": null,
   "id": "fbe52b6d",
   "metadata": {},
   "outputs": [],
   "source": [
    "trained_model = model.bind(trained_model_state.params)"
   ]
  },
  {
   "cell_type": "markdown",
   "id": "3e5ccb8a",
   "metadata": {},
   "source": [
    "### Save model"
   ]
  },
  {
   "cell_type": "code",
   "execution_count": null,
   "id": "651f310f",
   "metadata": {},
   "outputs": [],
   "source": [
    "save_checkpoint(trained_model_state, model_save, 0)"
   ]
  },
  {
   "cell_type": "markdown",
   "id": "6123abe3",
   "metadata": {},
   "source": [
    "### Load model"
   ]
  },
  {
   "cell_type": "code",
   "execution_count": null,
   "id": "a33d3947",
   "metadata": {},
   "outputs": [],
   "source": [
    "trained_model_state = restore_checkpoint(model_state, model_save)"
   ]
  },
  {
   "cell_type": "code",
   "execution_count": null,
   "id": "8b34afa5",
   "metadata": {},
   "outputs": [],
   "source": [
    "trained_model = model.bind(trained_model_state.params)"
   ]
  },
  {
   "cell_type": "markdown",
   "id": "52ac7ebd",
   "metadata": {},
   "source": [
    "## Inference "
   ]
  },
  {
   "cell_type": "markdown",
   "id": "fef132f6",
   "metadata": {},
   "source": [
    "## Load inference data"
   ]
  },
  {
   "cell_type": "code",
   "execution_count": null,
   "id": "628a3b1f",
   "metadata": {},
   "outputs": [],
   "source": [
    "import numpy as np\n",
    "\n",
    "file_path = r\"/home/anusha/Research/Layered-architecture-quadrotor-control/Simulations/data/uni_train-nonoise2.pkl\"\n",
    "unicycle_data = load_object(file_path)\n",
    "\n",
    "actual_traj = np.vstack(unicycle_data[0])\n",
    "ref_traj = np.vstack(unicycle_data[1])\n",
    "rdot_traj = np.vstack(unicycle_data[2])\n",
    "\n",
    "print(actual_traj.shape)\n",
    "print(ref_traj.shape)"
   ]
  },
  {
   "cell_type": "code",
   "execution_count": null,
   "id": "6d629a5f",
   "metadata": {
    "scrolled": true
   },
   "outputs": [],
   "source": [
    "import torch.utils.data as data\n",
    "\n",
    "Tstart=traj_len-1500\n",
    "Tend=traj_len-101\n",
    "\n",
    "N = 101\n",
    "q = 2\n",
    "p = 3 + 3*N\n",
    "traj_len = ref_traj.shape[0]\n",
    "\n",
    "# ref_chunks = np.vstack([ref_traj[i*100+5:(i+1)*100-5, :] for i in range(0, len(ref_traj))])\n",
    "# actual_chunks = np.vstack([actual_traj[i*101+5:(i+1)*101-6, :] for i in range(0, len(actual_traj))])\n",
    "\n",
    "Kp = 50 * np.array([[2, 0, 0], [0, 1, 0]])\n",
    "key = jax.random.PRNGKey(793)\n",
    "Kd = 50 * jax.random.uniform(key=key, shape=(2, 3))\n",
    "\n",
    "cost_traj, input_traj = compute_tracking_cost(ref_traj, actual_traj, rdot_traj, Kp, Kd, N)\n",
    "\n",
    "aug_state = [np.append(actual_traj[r, :], ref_traj[r:r+N, :]) for r in range(len(ref_traj)-N)]\n",
    "aug_state = np.array(aug_state)\n",
    "\n",
    "test_dataset = TrajDataset(aug_state[Tstart:Tend-1, :].astype('float64'), input_traj[Tstart:Tend-1, :].astype('float64'),\n",
    "                               cost_traj[Tstart:Tend-1, None].astype('float64'), aug_state[Tstart+1:Tend, :].astype('float64'))\n",
    "test_data_loader = data.DataLoader(test_dataset, batch_size=batch_size, shuffle=False, collate_fn=numpy_collate)\n",
    "eval_model(trained_model_state, test_data_loader, batch_size)\n",
    "\n",
    "data_input, _, cost, _ = next(iter(test_data_loader))\n",
    "out = trained_model(data_input)  # No explicit parameter passing necessary anymore\n",
    "plt.figure()\n",
    "plt.plot(out.ravel(), 'b-', label=\"Predictions\")\n",
    "plt.plot(cost.ravel(), 'r--', label=\"Actual\")\n",
    "plt.legend()\n",
    "plt.title(\"MLP with JAX on hold out data\")"
   ]
  },
  {
   "cell_type": "markdown",
   "id": "2c1de7cc",
   "metadata": {},
   "source": [
    "### Inference on the test data"
   ]
  },
  {
   "cell_type": "code",
   "execution_count": null,
   "id": "3fccf074",
   "metadata": {},
   "outputs": [],
   "source": [
    "out = []\n",
    "true = []\n",
    "for batch in test_data_loader:\n",
    "    data_input, _, cost, _ = batch\n",
    "    out.append(trained_model(data_input))\n",
    "    true.append(cost)"
   ]
  },
  {
   "cell_type": "code",
   "execution_count": null,
   "id": "dc3cb28f",
   "metadata": {},
   "outputs": [],
   "source": [
    "out = np.vstack(out)\n",
    "true = np.vstack(true)"
   ]
  },
  {
   "cell_type": "code",
   "execution_count": null,
   "id": "aa34c045",
   "metadata": {},
   "outputs": [],
   "source": [
    "plt.figure()\n",
    "plt.plot(out.ravel(), 'b-', label=\"Predictions\")\n",
    "plt.plot(true.ravel(), 'r--', label=\"Actual\")\n",
    "plt.legend()\n",
    "plt.title(\"MLP with JAX on hold out data\")"
   ]
  },
  {
   "cell_type": "markdown",
   "id": "08554bc8",
   "metadata": {},
   "source": [
    "## Test time"
   ]
  },
  {
   "cell_type": "markdown",
   "id": "544733b0",
   "metadata": {},
   "source": [
    "### Optimize over the trajectories in the test dataset"
   ]
  },
  {
   "cell_type": "code",
   "execution_count": null,
   "id": "df5385aa",
   "metadata": {},
   "outputs": [],
   "source": [
    "from model_learning import test_model\n",
    "\n",
    "data_state, _, data_cost, _ = next(iter(test_data_loader))\n",
    "print(data_state[0])\n",
    "print(data_cost[0])\n",
    "solution, data = test_model(trained_model_state, test_data_loader, batch_size)"
   ]
  },
  {
   "cell_type": "code",
   "execution_count": null,
   "id": "87026f67",
   "metadata": {},
   "outputs": [],
   "source": [
    "from helper_functions import forward_simulate\n",
    "\n",
    "cost = []\n",
    "reg_cost = []\n",
    "rollout = []\n",
    "ref = []\n",
    "\n",
    "i = 0\n",
    "for sol in solution:\n",
    "    # Take the augmented state -- init state + ref and simulate the unicycle -- compute cost and verify\n",
    "    reg_cost.append(sol.fun)\n",
    "    new_aug_state = sol.x\n",
    "    x0 = new_aug_state[0:3]\n",
    "    print(\"init\", x0)\n",
    "    ref.append(new_aug_state.reshape([N, 3]))\n",
    "    print(\"New ref\", ref[i])\n",
    "    # input\n",
    "    c, x = forward_simulate(x0, ref[i], Kp, Kd, N)\n",
    "    cost.append(c)\n",
    "    rollout.append(x)\n",
    "    print(\"rollout\", x)\n",
    "    i += 1\n",
    "    \n",
    "plt.figure()\n",
    "plt.plot(data_cost.ravel(), '*', label=\"true cost\")\n",
    "plt.plot(reg_cost, 'o', label=\"optimized cost\")\n",
    "plt.legend()"
   ]
  },
  {
   "cell_type": "code",
   "execution_count": null,
   "id": "523c3958",
   "metadata": {},
   "outputs": [],
   "source": [
    "ref = np.vstack(ref)\n",
    "print(ref.shape)"
   ]
  },
  {
   "cell_type": "code",
   "execution_count": null,
   "id": "d5a6f5eb",
   "metadata": {},
   "outputs": [],
   "source": [
    "new_data = np.vstack(data)\n",
    "print(new_data.shape)"
   ]
  },
  {
   "cell_type": "code",
   "execution_count": null,
   "id": "daed8e4e",
   "metadata": {},
   "outputs": [],
   "source": [
    "plt.figure()\n",
    "m = 0\n",
    "print(ref[m])\n",
    "print(data[m])\n",
    "# plt.plot(ref[0:10, 0], ref[0:10, 1], 'r--', label=\"new ref\")\n",
    "plt.plot(new_data[0, 0::3], new_data[0, 1::3], 'b--')\n",
    "plt.xlabel(\"x position\")\n",
    "plt.ylabel(\"y position\")\n",
    "plt.legend()"
   ]
  },
  {
   "cell_type": "markdown",
   "id": "b4d0277f",
   "metadata": {},
   "source": [
    "## Evaluate on polynomial trajectories\n"
   ]
  },
  {
   "cell_type": "code",
   "execution_count": null,
   "id": "77612484",
   "metadata": {},
   "outputs": [],
   "source": [
    "from generate_data import generate_polynomial_trajectory\n",
    "import numpy as np\n",
    "import jax.numpy as jnp\n",
    "\n",
    "num_inf = 100\n",
    "inits = np.random.randint(0, 2, (2, num_inf))\n",
    "inits = np.append(inits, np.zeros(num_inf))\n",
    "inits = np.reshape(inits, (3, num_inf))\n",
    "\n",
    "goals = np.random.randint(1, 3, (2, num_inf))\n",
    "goals = np.append(goals, np.zeros(num_inf))\n",
    "goals = np.reshape(goals, (3, num_inf))\n",
    "\n",
    "N = 101\n",
    "\n",
    "poly_traj = []\n",
    "for i in range(num_inf):\n",
    "    poly_traj.append(generate_polynomial_trajectory(inits[:, i], goals[:, i], 101, 2))\n",
    "    \n",
    "print(poly_traj[0].shape)\n",
    "\n",
    "poly_aug_state = [np.append(poly_traj[r][0, :], poly_traj[r][:, :]) for r in range(len(poly_traj))]\n",
    "poly_aug_state = jnp.array(poly_aug_state)\n",
    "print(poly_aug_state.shape)"
   ]
  },
  {
   "cell_type": "code",
   "execution_count": null,
   "id": "7e54f1d9",
   "metadata": {},
   "outputs": [],
   "source": [
    "from model_learning import calculate_cost\n",
    "from jax.scipy.optimize import minimize\n",
    "\n",
    "solution = []\n",
    "for i in range(3):\n",
    "    solution.append(minimize(calculate_cost, poly_aug_state[i, 3:], \n",
    "        args=(poly_aug_state[i, :3], poly_aug_state[i, -3:], trained_model_state, trained_model_state.params), method=\"BFGS\"))\n",
    "    "
   ]
  },
  {
   "cell_type": "code",
   "execution_count": null,
   "id": "a0e043c3",
   "metadata": {},
   "outputs": [],
   "source": [
    "# How to parse the solution at test time?\n",
    "from helper_functions import forward_simulate\n",
    "\n",
    "cost = []\n",
    "reg_cost = []\n",
    "rollout = []\n",
    "ref = []\n",
    "\n",
    "i = 0\n",
    "for sol in solution:\n",
    "    # Take the augmented state -- init state + ref and simulate the unicycle -- compute cost and verify\n",
    "    reg_cost.append(sol.fun)\n",
    "    new_aug_state = sol.x\n",
    "    x0 = new_aug_state[0:3]\n",
    "    print(\"init\", x0)\n",
    "    ref.append(new_aug_state.reshape([N, 3]))\n",
    "    print(\"New ref\", ref[i])\n",
    "    # input\n",
    "    c, x = forward_simulate(x0, ref[i], Kp, Kd, N)\n",
    "    cost.append(c)\n",
    "    rollout.append(x)\n",
    "    print(\"rollout\", x)\n",
    "    i += 1\n",
    "    \n",
    "plt.figure()\n",
    "plt.plot(data_cost.ravel(), '*', label=\"true cost\")\n",
    "plt.plot(reg_cost, 'o', label=\"optimized cost\")\n",
    "plt.legend()"
   ]
  },
  {
   "cell_type": "code",
   "execution_count": null,
   "id": "9d48bc9a",
   "metadata": {},
   "outputs": [],
   "source": [
    "plt.figure()\n",
    "m = 0\n",
    "print(ref[m])\n",
    "print(data[m])\n",
    "# plt.plot(ref[0:10, 0], ref[0:10, 1], 'r--', label=\"new ref\")\n",
    "plt.plot(new_data[0, 0::3], new_data[0, 1::3], 'b--')\n",
    "plt.xlabel(\"x position\")\n",
    "plt.ylabel(\"y position\")\n",
    "plt.legend()"
   ]
  },
  {
   "cell_type": "code",
   "execution_count": null,
   "id": "260fe35d",
   "metadata": {},
   "outputs": [],
   "source": [
    "print(solution[0].fun)\n",
    "print(solution[0].x)"
   ]
  },
  {
   "cell_type": "code",
   "execution_count": null,
   "id": "c06871dc",
   "metadata": {},
   "outputs": [],
   "source": []
  },
  {
   "cell_type": "code",
   "execution_count": null,
   "id": "220f6e66",
   "metadata": {},
   "outputs": [],
   "source": []
  },
  {
   "cell_type": "code",
   "execution_count": null,
   "id": "c899c480",
   "metadata": {},
   "outputs": [],
   "source": []
  },
  {
   "cell_type": "markdown",
   "id": "43c07b55",
   "metadata": {},
   "source": [
    "## Visualization plots code"
   ]
  },
  {
   "cell_type": "code",
   "execution_count": null,
   "id": "0e408ae0",
   "metadata": {},
   "outputs": [],
   "source": [
    "import pandas as pd\n",
    "import seaborn as sns\n",
    "\n",
    "df = pd.DataFrame(np.dstack([out, cost]).reshape([64, 2]), columns=['preds', 'actual'])\n",
    "\n",
    "order=['preds', 'actual']\n",
    "x = \"Evaluation on Training\"\n",
    "y = \"Tracking Cost\"\n",
    "#print(pd.melt(df))\n",
    "flierprops = dict(marker='o', markerfacecolor='#FFFFFF', markersize=4,\n",
    "                  linestyle='none', markeredgecolor='#D3D3D3')\n",
    "plt.figure()\n",
    "axes = sns.boxplot(data=pd.melt(df, var_name=x, value_name=y), x=x, y=y, order=order, dodge=False, width=0.5, medianprops=dict(color='black'), \n",
    "                     # palette={labels[0]:\"blue\", labels[1]:\"orange\", labels[2]:\"green\", labels[3]:\"red\"}, saturation=1,\n",
    "                      flierprops=flierprops,\n",
    "                      showmeans=True, meanprops={\"marker\":\"*\", \"markerfacecolor\":\"black\", \"markeredgecolor\":\"black\"})\n",
    "axes.set_xlabel(x, fontsize=15)\n",
    "axes.set_ylabel(y, fontsize=15)\n",
    "axes.set_ylim((0, 10))\n",
    "# plt.savefig('/home/anusha/Downloads/icra_results/train.png', dpi=300, bbox_inches='tight')\n",
    "plt.show()"
   ]
  },
  {
   "cell_type": "code",
   "execution_count": null,
   "id": "d8453aa6",
   "metadata": {
    "scrolled": true
   },
   "outputs": [],
   "source": [
    "import matplotlib.pyplot as plt\n",
    "\n",
    "data_input, _, cost, _ = next(iter(train_data_loader))\n",
    "out = trained_model(data_input)  # No explicit parameter passing necessary anymore\n",
    "plt.figure()\n",
    "plt.plot(out.ravel(), 'o', label=\"Predictions\")\n",
    "plt.plot(cost.ravel(), 'o', label=\"Actual\")\n",
    "plt.legend()\n",
    "plt.title(\"MLP with JAX on training data\")"
   ]
  },
  {
   "cell_type": "code",
   "execution_count": null,
   "id": "250b2bd2",
   "metadata": {},
   "outputs": [],
   "source": [
    "import pandas as pd\n",
    "import seaborn as sns\n",
    "\n",
    "df = pd.DataFrame(np.dstack([np.vstack(out), np.vstack(true)]).reshape([499, 2]), columns=['preds', 'actual'])\n",
    "\n",
    "order=['preds', 'actual']\n",
    "x = \"Evaluation on Hold Out Data\"\n",
    "y = \"Tracking Cost\"\n",
    "#print(pd.melt(df))\n",
    "flierprops = dict(marker='o', markerfacecolor='#FFFFFF', markersize=4,\n",
    "                  linestyle='none', markeredgecolor='#D3D3D3')\n",
    "plt.figure()\n",
    "axes = sns.boxplot(data=pd.melt(df, var_name=x, value_name=y), x=x, y=y, order=order, dodge=False, width=0.5, medianprops=dict(color='black'), \n",
    "                     # palette={labels[0]:\"blue\", labels[1]:\"orange\", labels[2]:\"green\", labels[3]:\"red\"}, saturation=1,\n",
    "                      flierprops=flierprops,\n",
    "                      showmeans=True, meanprops={\"marker\":\"*\", \"markerfacecolor\":\"black\", \"markeredgecolor\":\"black\"})\n",
    "axes.set_xlabel(x, fontsize=15)\n",
    "axes.set_ylabel(y, fontsize=15)\n",
    "axes.set_ylim((0, 10))\n",
    "# plt.savefig('/home/anusha/Downloads/icra_results/train.png', dpi=300, bbox_inches='tight')\n",
    "plt.show()"
   ]
  },
  {
   "cell_type": "code",
   "execution_count": null,
   "id": "0c5fb858",
   "metadata": {},
   "outputs": [],
   "source": [
    "import pandas as pd\n",
    "import seaborn as sns\n",
    "\n",
    "df = pd.DataFrame(np.dstack([data_cost.ravel(), reg_cost]).reshape([64, 2]), columns=['actual', 'optimized'])\n",
    "\n",
    "order=['actual', 'optimized']\n",
    "x = \"Evaluation on Optimizing new references\"\n",
    "y = \"Tracking Cost\"\n",
    "#print(pd.melt(df))\n",
    "flierprops = dict(marker='o', markerfacecolor='#FFFFFF', markersize=4,\n",
    "                  linestyle='none', markeredgecolor='#D3D3D3')\n",
    "plt.figure()\n",
    "axes = sns.boxplot(data=pd.melt(df, var_name=x, value_name=y), x=x, y=y, order=order, dodge=False, width=0.5, medianprops=dict(color='black'), \n",
    "                     # palette={labels[0]:\"blue\", labels[1]:\"orange\", labels[2]:\"green\", labels[3]:\"red\"}, saturation=1,\n",
    "                      flierprops=flierprops,\n",
    "                      showmeans=True, meanprops={\"marker\":\"*\", \"markerfacecolor\":\"black\", \"markeredgecolor\":\"black\"})\n",
    "axes.set_xlabel(x, fontsize=15)\n",
    "axes.set_ylabel(y, fontsize=15)\n",
    "axes.set_ylim((0, 1))\n",
    "# plt.savefig('/home/anusha/Downloads/icra_results/train.png', dpi=300, bbox_inches='tight')\n",
    "plt.show()"
   ]
  },
  {
   "cell_type": "code",
   "execution_count": null,
   "id": "917fb3fe",
   "metadata": {},
   "outputs": [],
   "source": [
    "df = pd.DataFrame(np.dstack(traj_costs).reshape([10, 2]), columns=['0.1', '10'])\n",
    "\n",
    "order=['0.1', '10']\n",
    "x = \"Tracking Penalty (rho)\"\n",
    "y = \"Tracking Cost\"\n",
    "#print(pd.melt(df))\n",
    "flierprops = dict(marker='o', markerfacecolor='#FFFFFF', markersize=4,\n",
    "                  linestyle='none', markeredgecolor='#D3D3D3')\n",
    "axes = sns.boxplot(data=pd.melt(df, var_name=x, value_name=y), x=x, y=y, order=order, dodge=False, width=0.5, medianprops=dict(color='black'), \n",
    "                     # palette={labels[0]:\"blue\", labels[1]:\"orange\", labels[2]:\"green\", labels[3]:\"red\"}, saturation=1,\n",
    "                      flierprops=flierprops,\n",
    "                      showmeans=True, meanprops={\"marker\":\"*\", \"markerfacecolor\":\"black\", \"markeredgecolor\":\"black\"})\n",
    "axes.set_xlabel(x, fontsize=15)\n",
    "axes.set_ylabel(y, fontsize=15)\n",
    "#axes.set_ylim((7, 9))\n",
    "plt.savefig('/home/anusha/Downloads/icra_results/cost-rho-results.png', dpi=300, bbox_inches='tight')\n",
    "plt.show()"
   ]
  }
 ],
 "metadata": {
  "kernelspec": {
   "display_name": "Python 3 (ipykernel)",
   "language": "python",
   "name": "python3"
  },
  "language_info": {
   "codemirror_mode": {
    "name": "ipython",
    "version": 3
   },
   "file_extension": ".py",
   "mimetype": "text/x-python",
   "name": "python",
   "nbconvert_exporter": "python",
   "pygments_lexer": "ipython3",
   "version": "3.8.10"
  }
 },
 "nbformat": 4,
 "nbformat_minor": 5
}
