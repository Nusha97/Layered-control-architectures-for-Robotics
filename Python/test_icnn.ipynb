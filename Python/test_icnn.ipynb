{
 "cells": [
  {
   "cell_type": "code",
   "execution_count": 1,
   "id": "c9afe55a",
   "metadata": {},
   "outputs": [],
   "source": [
    "%load_ext autoreload\n",
    "%autoreload 2"
   ]
  },
  {
   "cell_type": "code",
   "execution_count": 37,
   "id": "2c6f551c",
   "metadata": {
    "scrolled": true
   },
   "outputs": [],
   "source": [
    "import torch\n",
    "import torch.nn as nn\n",
    "import icnn\n",
    "import numpy as np\n",
    "from matplotlib import pyplot as plt\n",
    "import torch.optim as optim"
   ]
  },
  {
   "cell_type": "markdown",
   "id": "84e1895b",
   "metadata": {},
   "source": [
    "## Generate data"
   ]
  },
  {
   "cell_type": "code",
   "execution_count": 94,
   "id": "90704356",
   "metadata": {},
   "outputs": [
    {
     "data": {
      "image/png": "[encoded data removed]",
      "text/plain": [
       "<Figure size 432x288 with 1 Axes>"
      ]
     },
     "metadata": {
      "needs_background": "light"
     },
     "output_type": "display_data"
    }
   ],
   "source": [
    "x = torch.linspace(-1, 1, 100, dtype=torch.double)\n",
    "y = -x ** 2\n",
    "_, = plt.plot(x, y)"
   ]
  },
  {
   "cell_type": "code",
   "execution_count": 103,
   "id": "76022d8a",
   "metadata": {},
   "outputs": [
    {
     "name": "stderr",
     "output_type": "stream",
     "text": [
      "/home/fengjun/.virtualenvs/general/lib/python3.8/site-packages/torch/nn/modules/loss.py:530: UserWarning: Using a target size (torch.Size([1, 100])) that is different to the input size (torch.Size([100, 1])). This will likely lead to incorrect results due to broadcasting. Please ensure they have the same size.\n",
      "  return F.mse_loss(input, target, reduction=self.reduction)\n"
     ]
    },
    {
     "name": "stdout",
     "output_type": "stream",
     "text": [
      "Epoch: 1 \t Loss: 109446.09798352484\n",
      "Epoch: 101 \t Loss: 0.2934285638288369\n",
      "Epoch: 201 \t Loss: 0.12939000025346487\n",
      "Epoch: 301 \t Loss: 0.1096091558714664\n",
      "Epoch: 401 \t Loss: 0.1023126017977689\n",
      "Epoch: 501 \t Loss: 0.09886349219608064\n",
      "Epoch: 601 \t Loss: 0.09698364932152251\n",
      "Epoch: 701 \t Loss: 0.09585812509265437\n",
      "Epoch: 801 \t Loss: 0.09513822247567003\n",
      "Epoch: 901 \t Loss: 0.09465512547216476\n",
      "Epoch: 1001 \t Loss: 0.09431943399261537\n",
      "Epoch: 1101 \t Loss: 0.09408040981185167\n",
      "Epoch: 1201 \t Loss: 0.09390770672065336\n",
      "Epoch: 1301 \t Loss: 0.09378234488200711\n",
      "Epoch: 1401 \t Loss: 0.09369199048461273\n",
      "Epoch: 1501 \t Loss: 0.093628299674168\n",
      "Epoch: 1601 \t Loss: 0.09358534875541166\n",
      "Epoch: 1701 \t Loss: 0.0935586319310841\n",
      "Epoch: 1801 \t Loss: 0.09354434247639816\n",
      "Epoch: 1901 \t Loss: 0.09353879781772208\n"
     ]
    }
   ],
   "source": [
    "num_epoch = 2000\n",
    "model = icnn.ICNN(1, [100, 5, 1])\n",
    "lr = 0.01\n",
    "lossfn = nn.MSELoss()\n",
    "verbose = True\n",
    "\n",
    "optimizer = optim.Adam(model.parameters(), lr=lr)\n",
    "scheduler = optim.lr_scheduler.CosineAnnealingLR(\n",
    "          optimizer, num_epoch)\n",
    "for epoch in range(num_epoch):\n",
    "    model.zero_grad()\n",
    "    yhat = model.forward(x.unsqueeze(0))\n",
    "    loss = lossfn(yhat, y.unsqueeze(0))    \n",
    "    if(verbose and epoch % 100 == 0):\n",
    "        print('Epoch: {} \\t Loss: {}'.format(epoch+1, loss.item()))\n",
    "    loss.backward()\n",
    "    torch.nn.utils.clip_grad_norm_(model.parameters(), 10)\n",
    "    optimizer.step()\n",
    "    scheduler.step()\n"
   ]
  },
  {
   "cell_type": "code",
   "execution_count": 104,
   "id": "0c5ebab5",
   "metadata": {},
   "outputs": [
    {
     "data": {
      "image/png": "[encoded data removed]",
      "text/plain": [
       "<Figure size 432x288 with 1 Axes>"
      ]
     },
     "metadata": {
      "needs_background": "light"
     },
     "output_type": "display_data"
    }
   ],
   "source": [
    "_, = plt.plot(x, y, 'x', label='data')\n",
    "yhat = model.forward(x.unsqueeze(0)).detach()\n",
    "plt.plot(x, yhat, label='learned')\n",
    "_ = plt.legend()"
   ]
  },
  {
   "cell_type": "code",
   "execution_count": null,
   "id": "150f779c",
   "metadata": {},
   "outputs": [],
   "source": [
    "from __future__ import print_function, division\n",
    "import quadrotortrajectorygen as quadtraj\n",
    "\n",
    "# Define the trajectory starting state:\n",
    "pos0 = [0, 0, 2]  # position\n",
    "vel0 = [0, 0, 0]  # velocity\n",
    "acc0 = [0, 0, 0]  # acceleration\n",
    "\n",
    "# Define the goal state:\n",
    "posf = [1, 0, 1]  # position\n",
    "velf = [0, 0, 1]  # velocity\n",
    "accf = [0, 9.81, 0]  # acceleration\n",
    "\n",
    "# Define the duration:\n",
    "Tf = 1\n",
    "\n",
    "# Define the input limits:\n",
    "fmin = 5  # [m/s**2]\n",
    "fmax = 25  # [m/s**2]\n",
    "wmax = 20  # [rad/s]\n",
    "minTimeSec = 0.02  # [s]\n",
    "\n",
    "# Define how gravity lies:\n",
    "gravity = [0, 0, -9.81]\n",
    "\n",
    "traj = quadtraj.RapidTrajectory(pos0, vel0, acc0, gravity)\n",
    "traj.set_goal_position(posf)\n",
    "traj.set_goal_velocity(velf)\n",
    "traj.set_goal_acceleration(accf)\n",
    "\n",
    "# Note: if you'd like to leave some states free, there are two options to\n",
    "# encode this. As an example, we will be leaving the velocity in `x` (axis 0)\n",
    "# free:\n",
    "#\n",
    "# Option 1:\n",
    "# traj.set_goal_velocity_in_axis(1,velf_y);\n",
    "# traj.set_goal_velocity_in_axis(2,velf_z);\n",
    "#\n",
    "# Option 2:\n",
    "# traj.set_goal_velocity([None, velf_y, velf_z])\n",
    "\n",
    "# Run the algorithm, and generate the trajectory.\n",
    "traj.generate(Tf)\n",
    "\n",
    "# Test input feasibility\n",
    "inputsFeasible = traj.check_input_feasibility(fmin, fmax, wmax, minTimeSec)\n",
    "\n",
    "# Test whether we fly into the floor\n",
    "floorPoint = [0, 0, 0]  # a point on the floor\n",
    "floorNormal = [0, 0, 1]  # we want to be in this direction of the point (upwards)\n",
    "positionFeasible = traj.check_position_feasibility(floorPoint, floorNormal)\n",
    "\n",
    "for i in range(3):\n",
    "    print(\"Axis #\", i)\n",
    "    print(\"\\talpha = \", traj.get_param_alpha(i), \"\\tbeta = \", traj.get_param_beta(i), \"\\tgamma = \",\n",
    "          traj.get_param_gamma(i))\n",
    "print(\"Total cost = \", traj.get_cost())\n",
    "print(\"Input feasibility result: \", quadtraj.InputFeasibilityResult.to_string(inputsFeasible), \"(\", inputsFeasible, \")\")\n",
    "print(\"Position feasibility result: \", quadtraj.StateFeasibilityResult.to_string(positionFeasible), \"(\",\n",
    "      positionFeasible, \")\")\n"
   ]
  },
  {
   "cell_type": "code",
   "execution_count": null,
   "id": "7d8165db",
   "metadata": {},
   "outputs": [],
   "source": []
  },
  {
   "cell_type": "code",
   "execution_count": null,
   "id": "cf36b027",
   "metadata": {},
   "outputs": [],
   "source": []
  },
  {
   "cell_type": "code",
   "execution_count": null,
   "id": "adece196",
   "metadata": {},
   "outputs": [],
   "source": []
  },
  {
   "cell_type": "code",
   "execution_count": null,
   "id": "64ae5d49",
   "metadata": {},
   "outputs": [],
   "source": []
  },
  {
   "cell_type": "code",
   "execution_count": null,
   "id": "5463f068",
   "metadata": {},
   "outputs": [],
   "source": []
  },
  {
   "cell_type": "code",
   "execution_count": null,
   "id": "62bd9a74",
   "metadata": {},
   "outputs": [],
   "source": []
  },
  {
   "cell_type": "code",
   "execution_count": null,
   "id": "ab64bd24",
   "metadata": {},
   "outputs": [],
   "source": []
  },
  {
   "cell_type": "code",
   "execution_count": null,
   "id": "fd97b1c3",
   "metadata": {},
   "outputs": [],
   "source": []
  },
  {
   "cell_type": "code",
   "execution_count": null,
   "id": "a4226e88",
   "metadata": {},
   "outputs": [],
   "source": []
  },
  {
   "cell_type": "code",
   "execution_count": null,
   "id": "5f54d0b3",
   "metadata": {},
   "outputs": [],
   "source": []
  }
 ],
 "metadata": {
  "kernelspec": {
   "display_name": "general",
   "language": "python",
   "name": "general"
  },
  "language_info": {
   "codemirror_mode": {
    "name": "ipython",
    "version": 3
   },
   "file_extension": ".py",
   "mimetype": "text/x-python",
   "name": "python",
   "nbconvert_exporter": "python",
   "pygments_lexer": "ipython3",
   "version": "3.8.10"
  },
  "pycharm": {
   "stem_cell": {
    "cell_type": "raw",
    "source": [],
    "metadata": {
     "collapsed": false
    }
   }
  }
 },
 "nbformat": 4,
 "nbformat_minor": 5
}