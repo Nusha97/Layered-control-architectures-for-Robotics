{
 "cells": [
  {
   "cell_type": "code",
   "execution_count": 1,
   "id": "ea860941",
   "metadata": {},
   "outputs": [],
   "source": [
    "%load_ext autoreload\n",
    "%autoreload 2"
   ]
  },
  {
   "cell_type": "code",
   "execution_count": 4,
   "id": "768eb748",
   "metadata": {},
   "outputs": [],
   "source": [
    "import numpy as np\n",
    "import scipy.linalg as spl\n",
    "import matplotlib.pyplot as plt\n",
    "from torch.utils.data import DataLoader\n",
    "import torch\n",
    "\n",
    "import lstd\n",
    "import test_utils\n",
    "import trajgen\n",
    "import trajdata\n",
    "import icnn\n",
    "import valuefunc"
   ]
  },
  {
   "cell_type": "markdown",
   "id": "0ce21bd4",
   "metadata": {},
   "source": [
    "## TrajDataset class"
   ]
  },
  {
   "cell_type": "code",
   "execution_count": 8,
   "id": "cff65efe",
   "metadata": {},
   "outputs": [],
   "source": [
    "p = 5\n",
    "q = 3\n",
    "Q, R = np.eye(p), np.eye(q)\n",
    "sigma = 0.1\n",
    "gamma = 0.99\n",
    "A, B = test_utils.random_env(p, q, Anorm=1.05)\n",
    "Pstar = spl.solve_discrete_are(A, B, Q, R)\n",
    "Kstar = -np.linalg.pinv(B.T @ Pstar @ B + R) @ (B.T @ Pstar @ A)"
   ]
  },
  {
   "cell_type": "code",
   "execution_count": 9,
   "id": "b83bc91c",
   "metadata": {},
   "outputs": [],
   "source": [
    "num_trajs = 3000\n",
    "T = 10\n",
    "ctrl = test_utils.linear_feedback_controller(Kstar)\n",
    "xtraj, utraj, rtraj, xtraj_ = test_utils.sample_multiple_traj(\n",
    "    A, B, Q, R, ctrl, T, x0=None, sigma=0, num_traj=num_trajs)\n",
    "dataset = trajdata.TrajDataset(xtraj, utraj, rtraj, xtraj_)"
   ]
  },
  {
   "cell_type": "code",
   "execution_count": 44,
   "id": "16866f42",
   "metadata": {},
   "outputs": [
    {
     "name": "stdout",
     "output_type": "stream",
     "text": [
      "Epoch: 1 \t Training loss: 16733.836750825434\n",
      "Epoch: 51 \t Training loss: 0.06111288143204297\n",
      "Epoch: 101 \t Training loss: 0.09405480843728838\n",
      "Epoch: 151 \t Training loss: 0.008599661122318776\n",
      "Epoch: 201 \t Training loss: 0.028353810501377977\n",
      "Epoch: 251 \t Training loss: 0.008675627033403204\n",
      "Epoch: 301 \t Training loss: 0.0037263999183238146\n",
      "Epoch: 351 \t Training loss: 0.0065733710315347285\n"
     ]
    }
   ],
   "source": [
    "icnnvalue = valuefunc.ICNNValueFunc(p, [50, 50, 1])\n",
    "icnnvalue.learn(dataset, gamma, num_epoch=400, batch_size=64, verbose=True, print_interval=50)"
   ]
  },
  {
   "cell_type": "markdown",
   "id": "2dffaf36",
   "metadata": {},
   "source": [
    "## Vectorize LSTD policy evaluation"
   ]
  },
  {
   "cell_type": "code",
   "execution_count": 297,
   "id": "0c9ed631",
   "metadata": {},
   "outputs": [],
   "source": [
    "p = 2\n",
    "q = 1\n",
    "sigma = 0\n",
    "A, B = test_utils.random_env(p, q, Anorm=0.99)\n",
    "Q, R = 100 * np.eye(p), np.eye(q)\n",
    "Tref = 20\n",
    "# Construct augmented system for tracking\n",
    "At, Bt, Qt, Rt = lstd.nominal_to_tracking(A, B, Q, R, Tref)\n",
    "# Solve for a static tracking controller by directly solving DARE\n",
    "Pstar = spl.solve_discrete_are(At, Bt, Qt, Rt)\n",
    "Kstar = -np.linalg.pinv(Bt.T @ Pstar @ Bt + Rt) @ (Bt.T @ Pstar @ At)\n",
    "static_opt_ctrl = test_utils.linear_feedback_controller(Kstar)"
   ]
  },
  {
   "cell_type": "code",
   "execution_count": 303,
   "id": "77d09be3",
   "metadata": {},
   "outputs": [],
   "source": [
    "num_trajs = 3000\n",
    "T = 5\n",
    "ctrl = test_utils.random_controller(q)\n",
    "xtraj, utraj, rtraj, xtraj_ = test_utils.sample_multiple_traj(\n",
    "    At, Bt, Qt, Rt, ctrl, T, x0=None, sigma=0, num_traj=num_trajs)"
   ]
  },
  {
   "cell_type": "code",
   "execution_count": 304,
   "id": "3ebb7989",
   "metadata": {},
   "outputs": [],
   "source": [
    "Pxu, Px = lstd.evaluate(xtraj, utraj, rtraj, xtraj_, Kstar, gamma, sigma=0)"
   ]
  },
  {
   "cell_type": "code",
   "execution_count": 305,
   "id": "eedd7284",
   "metadata": {},
   "outputs": [
    {
     "data": {
      "text/plain": [
       "0.07014251404796701"
      ]
     },
     "execution_count": 305,
     "metadata": {},
     "output_type": "execute_result"
    }
   ],
   "source": [
    "test_utils.relerr(Pstar, Px)"
   ]
  },
  {
   "cell_type": "code",
   "execution_count": null,
   "id": "f3f29180",
   "metadata": {},
   "outputs": [],
   "source": []
  },
  {
   "cell_type": "code",
   "execution_count": null,
   "id": "b97a5c48",
   "metadata": {},
   "outputs": [],
   "source": []
  },
  {
   "cell_type": "code",
   "execution_count": null,
   "id": "2d05e60c",
   "metadata": {},
   "outputs": [],
   "source": []
  },
  {
   "cell_type": "code",
   "execution_count": null,
   "id": "96aeebcc",
   "metadata": {},
   "outputs": [],
   "source": []
  },
  {
   "cell_type": "code",
   "execution_count": null,
   "id": "1ed1f3c3",
   "metadata": {},
   "outputs": [],
   "source": []
  }
 ],
 "metadata": {
  "kernelspec": {
   "display_name": "general",
   "language": "python",
   "name": "general"
  },
  "language_info": {
   "codemirror_mode": {
    "name": "ipython",
    "version": 3
   },
   "file_extension": ".py",
   "mimetype": "text/x-python",
   "name": "python",
   "nbconvert_exporter": "python",
   "pygments_lexer": "ipython3",
   "version": "3.8.10"
  }
 },
 "nbformat": 4,
 "nbformat_minor": 5
}
