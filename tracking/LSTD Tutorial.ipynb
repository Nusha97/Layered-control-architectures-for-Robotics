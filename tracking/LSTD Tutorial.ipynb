{
 "cells": [
  {
   "cell_type": "markdown",
   "id": "e0739ab9",
   "metadata": {},
   "source": [
    "## Usage of functions in lstd.py"
   ]
  },
  {
   "cell_type": "code",
   "execution_count": 1,
   "id": "4ba55e7e",
   "metadata": {},
   "outputs": [],
   "source": [
    "%load_ext autoreload\n",
    "%autoreload 2"
   ]
  },
  {
   "cell_type": "code",
   "execution_count": 64,
   "id": "e30991a4",
   "metadata": {},
   "outputs": [],
   "source": [
    "import numpy as np\n",
    "import matplotlib.pyplot as plt\n",
    "\n",
    "import lstd\n",
    "import test_utils"
   ]
  },
  {
   "cell_type": "code",
   "execution_count": 144,
   "id": "1a9ba3c5",
   "metadata": {},
   "outputs": [],
   "source": [
    "p = 5\n",
    "q = 3\n",
    "Q, R = np.eye(p), np.eye(q)"
   ]
  },
  {
   "cell_type": "code",
   "execution_count": 145,
   "id": "0011a182",
   "metadata": {},
   "outputs": [],
   "source": [
    "A, B = test_utils.random_env(p, q, Anorm=1.05)\n",
    "ctrl = test_utils.random_controller(q)"
   ]
  },
  {
   "cell_type": "code",
   "execution_count": 146,
   "id": "7de1ae25",
   "metadata": {},
   "outputs": [],
   "source": [
    "num_trajs = 100\n",
    "T = 50\n",
    "xtrajs, utrajs, rtrajs = [], [], []\n",
    "for _ in range(num_trajs):\n",
    "    xtraj, utraj, rtraj = test_utils.sample_traj(A, B, Q, R, ctrl, T)\n",
    "    xtrajs.append(xtraj)\n",
    "    utrajs.append(utraj)\n",
    "    rtrajs.append(rtraj)\n",
    "traj = lstd.construct_traj_list(xtrajs, utrajs, rtrajs)"
   ]
  },
  {
   "cell_type": "code",
   "execution_count": 147,
   "id": "f1568943",
   "metadata": {
    "scrolled": true
   },
   "outputs": [],
   "source": [
    "K0 = np.random.random((q, p))\n",
    "K, P = lstd.lspi(traj, 0.99)"
   ]
  },
  {
   "cell_type": "code",
   "execution_count": 150,
   "id": "a75f7145",
   "metadata": {},
   "outputs": [],
   "source": [
    "K,P = K"
   ]
  },
  {
   "cell_type": "code",
   "execution_count": 163,
   "id": "14b6ad38",
   "metadata": {},
   "outputs": [
    {
     "data": {
      "image/png": "[encoded data removed]",
      "text/plain": [
       "<Figure size 432x288 with 1 Axes>"
      ]
     },
     "metadata": {
      "needs_background": "light"
     },
     "output_type": "display_data"
    }
   ],
   "source": [
    "ctrl = test_utils.linear_feedback_controller(K)\n",
    "xtraj, utraj, rtraj = test_utils.sample_traj(A, B, Q, R, ctrl, T)\n",
    "_ = plt.plot(np.arange(T+1), xtraj)"
   ]
  }
 ],
 "metadata": {
  "kernelspec": {
   "display_name": "general",
   "language": "python",
   "name": "general"
  },
  "language_info": {
   "codemirror_mode": {
    "name": "ipython",
    "version": 3
   },
   "file_extension": ".py",
   "mimetype": "text/x-python",
   "name": "python",
   "nbconvert_exporter": "python",
   "pygments_lexer": "ipython3",
   "version": "3.8.10"
  }
 },
 "nbformat": 4,
 "nbformat_minor": 5
}
