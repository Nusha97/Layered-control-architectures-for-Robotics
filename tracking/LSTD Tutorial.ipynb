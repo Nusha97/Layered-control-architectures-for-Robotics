{
 "cells": [
  {
   "cell_type": "code",
   "execution_count": null,
   "outputs": [],
   "source": [
    "%load_ext autoreload\n",
    "%autoreload 2"
   ],
   "metadata": {
    "collapsed": false,
    "pycharm": {
     "name": "#%%\n"
    }
   }
  },
  {
   "cell_type": "code",
   "execution_count": null,
   "outputs": [],
   "source": [
    "import numpy as np\n",
    "import scipy.linalg as spl\n",
    "import matplotlib.pyplot as plt\n",
    "from tqdm import tqdm\n",
    "\n",
    "import lstd\n",
    "import test_utils\n",
    "import trajgen"
   ],
   "metadata": {
    "collapsed": false,
    "pycharm": {
     "name": "#%%\n"
    }
   }
  },
  {
   "cell_type": "markdown",
   "source": [
    "## I. Toy environments"
   ],
   "metadata": {
    "collapsed": false,
    "pycharm": {
     "name": "#%% md\n"
    }
   }
  },
  {
   "cell_type": "code",
   "execution_count": null,
   "outputs": [],
   "source": [
    "p = 5\n",
    "q = 3\n",
    "Q, R = np.eye(p), np.eye(q)\n",
    "sigma = 0.1"
   ],
   "metadata": {
    "collapsed": false,
    "pycharm": {
     "name": "#%%\n"
    }
   }
  },
  {
   "cell_type": "code",
   "execution_count": null,
   "outputs": [],
   "source": [
    "A, B = test_utils.random_env(p, q, Anorm=1.05)\n",
    "Pstar = spl.solve_discrete_are(A, B, Q, R)\n",
    "Kstar = -np.linalg.pinv(B.T @ Pstar @ B + R) @ (B.T @ Pstar @ A)"
   ],
   "metadata": {
    "collapsed": false,
    "pycharm": {
     "name": "#%%\n"
    }
   }
  },
  {
   "cell_type": "code",
   "execution_count": null,
   "outputs": [],
   "source": [
    "num_trajs = 10000\n",
    "T = 10\n",
    "xtrajs, utrajs, rtrajs = [], [], []\n",
    "ctrl = test_utils.random_controller(q)\n",
    "for _ in range(num_trajs):\n",
    "    xtraj, utraj, rtraj = test_utils.sample_traj(A, B, Q, R, ctrl, T, sigma=sigma)\n",
    "    xtrajs.append(xtraj)\n",
    "    utrajs.append(utraj)\n",
    "    rtrajs.append(rtraj)\n",
    "traj = lstd.construct_traj_list(xtrajs, utrajs, rtrajs)"
   ],
   "metadata": {
    "collapsed": false,
    "pycharm": {
     "name": "#%%\n"
    }
   }
  },
  {
   "cell_type": "markdown",
   "source": [
    "### I-a. Policy evaluation"
   ],
   "metadata": {
    "collapsed": false,
    "pycharm": {
     "name": "#%% md\n"
    }
   }
  },
  {
   "cell_type": "code",
   "execution_count": null,
   "outputs": [],
   "source": [
    "# Solve for a time-varying controller using value iteration\n",
    "Pvi, Kvi = test_utils.lqr_vi(A, B, Q, R, 100, 0.99)\n",
    "# Evaluate controller Kstar\n",
    "Pxuhat, Pxhat = lstd.evaluate(traj, Kstar, 0.99, sigma=sigma)\n",
    "test_utils.relerr(Pstar, Pxhat)"
   ],
   "metadata": {
    "collapsed": false,
    "pycharm": {
     "name": "#%%\n"
    }
   }
  },
  {
   "cell_type": "markdown",
   "source": [
    "### I-b. Policy Iteration"
   ],
   "metadata": {
    "collapsed": false,
    "pycharm": {
     "name": "#%% md\n"
    }
   }
  },
  {
   "cell_type": "code",
   "execution_count": null,
   "outputs": [],
   "source": [
    "K0 = np.random.random((q, p))\n",
    "K, P = lstd.lspi(traj, 0.99, sigma=sigma, show_progress=False)"
   ],
   "metadata": {
    "collapsed": false,
    "pycharm": {
     "name": "#%%\n"
    }
   }
  },
  {
   "cell_type": "code",
   "execution_count": null,
   "outputs": [],
   "source": [
    "Tsim = 20\n",
    "ctrl = test_utils.linear_feedback_controller(K)\n",
    "ctrlopt = test_utils.linear_feedback_controller(Kstar)\n",
    "xtraj, utraj, rtraj = test_utils.sample_traj(A, B, Q, R, ctrl, Tsim, sigma=0)\n",
    "xopt, uopt, ropt = test_utils.sample_traj(A, B, Q, R, ctrlopt, Tsim, x0=xtraj[0], sigma=0)"
   ],
   "metadata": {
    "collapsed": false,
    "pycharm": {
     "name": "#%%\n"
    }
   }
  },
  {
   "cell_type": "code",
   "execution_count": null,
   "outputs": [],
   "source": [
    "ind = 0\n",
    "plt.plot(np.arange(Tsim+1), xopt[:, ind], '+--', label='opt')\n",
    "plt.plot(np.arange(Tsim+1), xtraj[:, ind], 'x--', label='learned')\n",
    "plt.legend()"
   ],
   "metadata": {
    "collapsed": false,
    "pycharm": {
     "name": "#%%\n"
    }
   }
  },
  {
   "cell_type": "markdown",
   "source": [
    "## II. Tracking 2D min-snap trajectories on random linear dynamics"
   ],
   "metadata": {
    "collapsed": false,
    "pycharm": {
     "name": "#%% md\n"
    }
   }
  },
  {
   "cell_type": "code",
   "execution_count": null,
   "outputs": [],
   "source": [
    "p = 2\n",
    "q = 2\n",
    "sigma = 0\n",
    "A, B = test_utils.random_env(p, q, Anorm=0.99)\n",
    "Q, R = 100 * np.eye(p), np.eye(q)\n",
    "Tref = 10\n",
    "# Construct augmented system for tracking\n",
    "At, Bt, Qt, Rt = lstd.nominal_to_tracking(A, B, Q, R, Tref)"
   ],
   "metadata": {
    "collapsed": false,
    "pycharm": {
     "name": "#%%\n"
    }
   }
  },
  {
   "cell_type": "code",
   "execution_count": null,
   "outputs": [],
   "source": [
    "# Solve for a static tracking controller by directly solving DARE\n",
    "Pstar = spl.solve_discrete_are(At, Bt, Qt, Rt)\n",
    "Kstar = -np.linalg.pinv(Bt.T @ Pstar @ Bt + Rt) @ (Bt.T @ Pstar @ At)\n",
    "static_opt_ctrl = test_utils.linear_feedback_controller(Kstar)\n",
    "# Solve for dynamic tracking controller with VI\n",
    "Pvi, Kvi = test_utils.lqr_vi(At, Bt, Qt, Rt, Tref)"
   ],
   "metadata": {
    "collapsed": false,
    "pycharm": {
     "name": "#%%\n"
    }
   }
  },
  {
   "cell_type": "markdown",
   "source": [
    "### II-a Train a tracking controller"
   ],
   "metadata": {
    "collapsed": false,
    "pycharm": {
     "name": "#%% md\n"
    }
   }
  },
  {
   "cell_type": "code",
   "execution_count": null,
   "outputs": [],
   "source": [
    "# Collect trajectory\n",
    "ctrl = test_utils.random_controller(q)\n",
    "num_trajs = 500\n",
    "T = Tref\n",
    "xtrajs, utrajs, rtrajs = [], [], []\n",
    "for _ in range(num_trajs):\n",
    "    # Sample a reference trajectory\n",
    "    #ref = test_utils.sample_ref_traj(p, T, order=8).flatten(order='F')\n",
    "    ref = np.random.randn(p*(T+1))\n",
    "    d0 = np.concatenate([np.zeros(p), ref])\n",
    "    # Collect trajectory using random tracking controller\n",
    "    xtraj, utraj, rtraj = test_utils.sample_traj(At, Bt, Qt, Rt, ctrl, T, d0, sigma=sigma)\n",
    "    xtrajs.append(xtraj)\n",
    "    utrajs.append(utraj)\n",
    "    rtrajs.append(rtraj)\n",
    "traj = lstd.construct_traj_list(xtrajs, utrajs, rtrajs)"
   ],
   "metadata": {
    "collapsed": false,
    "pycharm": {
     "name": "#%%\n"
    }
   }
  },
  {
   "cell_type": "code",
   "execution_count": null,
   "outputs": [],
   "source": [
    "# Train a tracking controller\n",
    "K0 = np.random.random((q, p))\n",
    "K, P = lstd.lspi(traj, 0.99, max_iter=200, sigma=sigma)\n",
    "learned_ctrl = test_utils.linear_feedback_controller(K)"
   ],
   "metadata": {
    "collapsed": false,
    "pycharm": {
     "name": "#%%\n"
    }
   }
  },
  {
   "cell_type": "markdown",
   "source": [
    "### II-b Test tracking performance"
   ],
   "metadata": {
    "collapsed": false,
    "pycharm": {
     "name": "#%% md\n"
    }
   }
  },
  {
   "cell_type": "code",
   "execution_count": null,
   "outputs": [],
   "source": [
    "# Spline trajectory\n",
    "x_waypoints = [0, np.random.randn(), np.random.randn(), 1]\n",
    "y_waypoints = [0, np.random.randn(), np.random.randn(), 1]\n",
    "ts = [0, 0.33, 0.66, 1]\n",
    "order = 7\n",
    "\n",
    "ref = np.vstack([trajgen.min_jerk(x_waypoints, ts, order, Tref)[1],\n",
    "                 trajgen.min_jerk(y_waypoints, ts, order, Tref)[1]])\n",
    "ref = ref.flatten(order='F')\n",
    "\n",
    "d0 = np.concatenate([np.zeros(p), ref])\n",
    "xtraj, utraj, rtraj = test_utils.sample_traj(At, Bt, Qt, Rt, learned_ctrl, Tref, d0, sigma=0)\n",
    "xopt, uopt, ropt = test_utils.sample_traj(At, Bt, Qt, Rt, static_opt_ctrl, Tref, d0, sigma=0)\n",
    "vi_ctrlr = test_utils.TVcontroller(Kvi[:])\n",
    "xvi, uvi, rvi = test_utils.sample_traj(At, Bt, Qt, Rt, vi_ctrlr.ctrl, Tref, d0, sigma=0)\n",
    "\n",
    "if p == 2:\n",
    "    # Planar\n",
    "    plt.plot(ref[0::2], ref[1::2], 'x-', label='reference')\n",
    "    plt.plot(xtraj[:-1,0], xtraj[:-1, 1], '+--', label='learned')\n",
    "    plt.plot(xvi[:,0], xvi[:, 1], '+--', label='opt-dyn')\n",
    "    plt.plot(xopt[:,0], xopt[:, 1], '+--', label='opt-sta')\n",
    "    plt.legend()"
   ],
   "metadata": {
    "collapsed": false,
    "pycharm": {
     "name": "#%%\n"
    }
   }
  },
  {
   "cell_type": "markdown",
   "source": [
    "## III. Trajectory generation with dynamic regularization (1D)"
   ],
   "metadata": {
    "collapsed": false,
    "pycharm": {
     "name": "#%% md\n"
    }
   }
  },
  {
   "cell_type": "code",
   "execution_count": null,
   "outputs": [],
   "source": [
    "p = 1\n",
    "q = 1\n",
    "sigma = 0\n",
    "A, B = test_utils.random_env(p, q, Anorm=0.99)\n",
    "Q, R = 10 * np.eye(p), np.eye(q)\n",
    "Tref = 15\n",
    "# Construct augmented system for tracking\n",
    "At, Bt, Qt, Rt = lstd.nominal_to_tracking(A, B, Q, R, Tref)\n",
    "# Solve for a static tracking controller by directly solving DARE\n",
    "Pstar = spl.solve_discrete_are(At, Bt, Qt, Rt)\n",
    "Kstar = -np.linalg.pinv(Bt.T @ Pstar @ Bt + Rt) @ (Bt.T @ Pstar @ At)\n",
    "static_opt_ctrl = test_utils.linear_feedback_controller(Kstar)\n",
    "# Solve for dynamic tracking controller with VI\n",
    "Pvi, Kvi = test_utils.lqr_vi(At, Bt, Qt, Rt, Tref)"
   ],
   "metadata": {
    "collapsed": false,
    "pycharm": {
     "name": "#%%\n"
    }
   }
  },
  {
   "cell_type": "code",
   "execution_count": null,
   "outputs": [],
   "source": [
    "# Ref traj specifications\n",
    "waypoints = [0, np.random.randn(), np.random.randn(), 1]\n",
    "ts = [0, 0.33, 0.66, 1]\n",
    "order = 6"
   ],
   "metadata": {
    "collapsed": false,
    "pycharm": {
     "name": "#%%\n"
    }
   }
  },
  {
   "cell_type": "code",
   "execution_count": null,
   "outputs": [],
   "source": [
    "# Collect trajectory\n",
    "ctrl = test_utils.random_controller(q)\n",
    "num_trajs = 1000\n",
    "T = Tref\n",
    "xtrajs, utrajs, rtrajs = [], [], []\n",
    "for _ in range(num_trajs):\n",
    "    # Sample a reference trajectory\n",
    "    #ref = test_utils.sample_ref_traj(p, T, order=8).flatten(order='F')\n",
    "    #ref = trajgen.min_jerk(waypoints, ts, order, Tref)[1]\n",
    "    ref = np.random.randn(p*(T+2))\n",
    "    # Collect trajectory using random tracking controller\n",
    "    xtraj, utraj, rtraj = test_utils.sample_traj(At, Bt, Qt, Rt, ctrl, T, ref, sigma=sigma)\n",
    "    xtrajs.append(xtraj)\n",
    "    utrajs.append(utraj)\n",
    "    rtrajs.append(rtraj)\n",
    "traj = lstd.construct_traj_list(xtrajs, utrajs, rtrajs)"
   ],
   "metadata": {
    "collapsed": false,
    "pycharm": {
     "name": "#%%\n"
    }
   }
  },
  {
   "cell_type": "code",
   "execution_count": null,
   "outputs": [],
   "source": [
    "# Train a tracking controller\n",
    "K0 = np.random.random((q, p))\n",
    "K, P = lstd.lspi(traj, 0.99, max_iter=200, sigma=sigma)\n",
    "learned_ctrl = test_utils.linear_feedback_controller(K)"
   ],
   "metadata": {
    "collapsed": false,
    "pycharm": {
     "name": "#%%\n"
    }
   }
  },
  {
   "cell_type": "code",
   "execution_count": null,
   "outputs": [],
   "source": [
    "# Spline trajectory\n",
    "waypoints = [1, np.random.randn(), np.random.randn(), 1]\n",
    "rhos = np.logspace(-4, 2, 8)\n",
    "\n",
    "plt.figure(figsize=(20, 10))\n",
    "for i, rho in enumerate(rhos):\n",
    "    ret = trajgen.min_jerk(waypoints, ts, 8, Tref, P=Pvi, rho=rho)\n",
    "    if ret is None:\n",
    "        continue\n",
    "    else:\n",
    "        _, ref, tc = ret\n",
    "    d0 = np.concatenate([[waypoints[0]], ref])\n",
    "    xtraj, utraj, rtraj = test_utils.sample_traj(At, Bt, Qt, Rt, learned_ctrl, Tref, d0, sigma=0)\n",
    "    xopt, uopt, ropt = test_utils.sample_traj(At, Bt, Qt, Rt, static_opt_ctrl, Tref, d0, sigma=0)\n",
    "    vi_ctrlr = test_utils.TVcontroller(Kvi[:])\n",
    "    xvi, uvi, rvi = test_utils.sample_traj(At, Bt, Qt, Rt, vi_ctrlr.ctrl, Tref, d0, sigma=0)\n",
    "\n",
    "    plt.subplot(2, int(len(rhos)/2), i+1)\n",
    "    plt.plot(np.arange(Tref+1), ref, 'x-', label='reference')\n",
    "    plt.plot(np.arange(Tref+1), xtraj[:,0], '+--', label='learned')\n",
    "    plt.plot(np.arange(Tref+1), xvi[:,0], '+--', label='opt')\n",
    "    plt.legend()\n",
    "    plt.title(r'$\\rho$={:.3f}, Tracking Cost={:.3f}'.format(rho, tc))"
   ],
   "metadata": {
    "collapsed": false,
    "pycharm": {
     "name": "#%%\n"
    }
   }
  },
  {
   "cell_type": "code",
   "execution_count": null,
   "outputs": [],
   "source": [],
   "metadata": {
    "collapsed": false,
    "pycharm": {
     "name": "#%%\n"
    }
   }
  },
  {
   "cell_type": "code",
   "execution_count": null,
   "outputs": [],
   "source": [],
   "metadata": {
    "collapsed": false,
    "pycharm": {
     "name": "#%%\n"
    }
   }
  },
  {
   "cell_type": "code",
   "execution_count": null,
   "outputs": [],
   "source": [],
   "metadata": {
    "collapsed": false,
    "pycharm": {
     "name": "#%%\n"
    }
   }
  },
  {
   "cell_type": "code",
   "execution_count": null,
   "outputs": [],
   "source": [],
   "metadata": {
    "collapsed": false,
    "pycharm": {
     "name": "#%%\n"
    }
   }
  },
  {
   "cell_type": "code",
   "execution_count": null,
   "outputs": [],
   "source": [],
   "metadata": {
    "collapsed": false,
    "pycharm": {
     "name": "#%%\n"
    }
   }
  },
  {
   "cell_type": "code",
   "execution_count": null,
   "outputs": [],
   "source": [],
   "metadata": {
    "collapsed": false,
    "pycharm": {
     "name": "#%%\n"
    }
   }
  },
  {
   "cell_type": "code",
   "execution_count": null,
   "outputs": [],
   "source": [],
   "metadata": {
    "collapsed": false,
    "pycharm": {
     "name": "#%%\n"
    }
   }
  },
  {
   "cell_type": "code",
   "execution_count": null,
   "outputs": [],
   "source": [],
   "metadata": {
    "collapsed": false,
    "pycharm": {
     "name": "#%%\n"
    }
   }
  },
  {
   "cell_type": "code",
   "execution_count": null,
   "outputs": [],
   "source": [],
   "metadata": {
    "collapsed": false,
    "pycharm": {
     "name": "#%%\n"
    }
   }
  },
  {
   "cell_type": "code",
   "execution_count": null,
   "outputs": [],
   "source": [],
   "metadata": {
    "collapsed": false,
    "pycharm": {
     "name": "#%%\n"
    }
   }
  },
  {
   "cell_type": "code",
   "execution_count": null,
   "outputs": [],
   "source": [],
   "metadata": {
    "collapsed": false,
    "pycharm": {
     "name": "#%%\n"
    }
   }
  },
  {
   "cell_type": "code",
   "execution_count": 7,
   "id": "c1844e2e",
   "metadata": {
    "pycharm": {
     "name": "#%%\n"
    },
    "scrolled": true
   },
   "outputs": [],
   "source": [
    "K0 = np.random.random((q, p))\n",
    "K, P = lstd.lspi(traj, 0.99, sigma=sigma, show_progress=False)"
   ]
  },
  {
   "cell_type": "code",
   "execution_count": 8,
   "id": "035815a2",
   "metadata": {
    "scrolled": true
   },
   "outputs": [],
   "source": [
    "Tsim = 20\n",
    "ctrl = test_utils.linear_feedback_controller(K)\n",
    "ctrlopt = test_utils.linear_feedback_controller(Kstar)\n",
    "xtraj, utraj, rtraj = test_utils.sample_traj(A, B, Q, R, ctrl, Tsim, sigma=0)\n",
    "xopt, uopt, ropt = test_utils.sample_traj(A, B, Q, R, ctrlopt, Tsim, x0=xtraj[0], sigma=0)"
   ]
  },
  {
   "cell_type": "code",
   "execution_count": 9,
   "id": "e26ff780",
   "metadata": {},
   "outputs": [
    {
     "data": {
      "text/plain": [
       "<matplotlib.legend.Legend at 0x7f744c4a2af0>"
      ]
     },
     "execution_count": 9,
     "metadata": {},
     "output_type": "execute_result"
    },
    {
     "data": {
      "image/png": "[encoded data removed]",
      "text/plain": [
       "<Figure size 432x288 with 1 Axes>"
      ]
     },
     "metadata": {
      "needs_background": "light"
     },
     "output_type": "display_data"
    }
   ],
   "source": [
    "ind = 0\n",
    "plt.plot(np.arange(Tsim+1), xopt[:, ind], '+--', label='opt')\n",
    "plt.plot(np.arange(Tsim+1), xtraj[:, ind], 'x--', label='learned')\n",
    "plt.legend()"
   ]
  },
  {
   "cell_type": "markdown",
   "id": "e180dc74",
   "metadata": {},
   "source": [
    "## II. Tracking 2D min-snap trajectories on random linear dynamics"
   ]
  },
  {
   "cell_type": "code",
   "execution_count": 7,
   "id": "5d7a843a",
   "metadata": {},
   "outputs": [],
   "source": [
    "p = 2\n",
    "q = 2\n",
    "sigma = 0\n",
    "A, B = test_utils.random_env(p, q, Anorm=0.99)\n",
    "Q, R = 100 * np.eye(p), np.eye(q)\n",
    "Tref = 10\n",
    "# Construct augmented system for tracking\n",
    "At, Bt, Qt, Rt = lstd.nominal_to_tracking(A, B, Q, R, Tref)"
   ]
  },
  {
   "cell_type": "code",
   "execution_count": 24,
   "id": "d4c412bd",
   "metadata": {},
   "outputs": [],
   "source": [
    "# Solve for a static tracking controller by directly solving DARE\n",
    "Pstar = spl.solve_discrete_are(At, Bt, Qt, Rt)\n",
    "Kstar = -np.linalg.pinv(Bt.T @ Pstar @ Bt + Rt) @ (Bt.T @ Pstar @ At)\n",
    "static_opt_ctrl = test_utils.linear_feedback_controller(Kstar)\n",
    "# Solve for dynamic tracking controller with VI\n",
    "Pvi, Kvi = test_utils.lqr_vi(At, Bt, Qt, Rt, Tref)"
   ]
  },
  {
   "cell_type": "markdown",
   "id": "74069043",
   "metadata": {},
   "source": [
    "### II-a Train a tracking controller"
   ]
  },
  {
   "cell_type": "code",
   "execution_count": 10,
   "id": "3499c9fc",
   "metadata": {},
   "outputs": [],
   "source": [
    "# Collect trajectory\n",
    "ctrl = test_utils.random_controller(q)\n",
    "num_trajs = 500\n",
    "T = Tref\n",
    "xtrajs, utrajs, rtrajs = [], [], []\n",
    "for _ in range(num_trajs):\n",
    "    # Sample a reference trajectory\n",
    "    #ref = test_utils.sample_ref_traj(p, T, order=8).flatten(order='F')\n",
    "    ref = np.random.randn(p*(T+1))\n",
    "    d0 = np.concatenate([np.zeros(p), ref])\n",
    "    # Collect trajectory using random tracking controller\n",
    "    xtraj, utraj, rtraj = test_utils.sample_traj(At, Bt, Qt, Rt, ctrl, T, d0, sigma=sigma)\n",
    "    xtrajs.append(xtraj)\n",
    "    utrajs.append(utraj)\n",
    "    rtrajs.append(rtraj)\n",
    "traj = lstd.construct_traj_list(xtrajs, utrajs, rtrajs)"
   ]
  },
  {
   "cell_type": "code",
   "execution_count": 11,
   "id": "f797b834",
   "metadata": {},
   "outputs": [
    {
     "name": "stderr",
     "output_type": "stream",
     "text": [
      "  2%|██▌                                                                                                                                                                           | 3/200 [00:04<04:50,  1.47s/it]\n"
     ]
    }
   ],
   "source": [
    "# Train a tracking controller\n",
    "K0 = np.random.random((q, p))\n",
    "K, P = lstd.lspi(traj, 0.99, max_iter=200, sigma=sigma)\n",
    "learned_ctrl = test_utils.linear_feedback_controller(K)"
   ]
  },
  {
   "cell_type": "markdown",
   "id": "75bdbbe0",
   "metadata": {},
   "source": [
    "### II-b Test tracking performance"
   ]
  },
  {
   "cell_type": "code",
   "execution_count": 36,
   "id": "6231ec58",
   "metadata": {
    "scrolled": true
   },
   "outputs": [
    {
     "data": {
      "image/png": "[encoded data removed]",
      "text/plain": [
       "<Figure size 432x288 with 1 Axes>"
      ]
     },
     "metadata": {
      "needs_background": "light"
     },
     "output_type": "display_data"
    }
   ],
   "source": [
    "# Spline trajectory\n",
    "x_waypoints = [0, np.random.randn(), np.random.randn(), 1]\n",
    "y_waypoints = [0, np.random.randn(), np.random.randn(), 1]\n",
    "ts = [0, 0.33, 0.66, 1]\n",
    "order = 7\n",
    "\n",
    "ref = np.vstack([trajgen.min_jerk(x_waypoints, ts, order, Tref)[1],\n",
    "                 trajgen.min_jerk(y_waypoints, ts, order, Tref)[1]])\n",
    "ref = ref.flatten(order='F')\n",
    "\n",
    "d0 = np.concatenate([np.zeros(p), ref])\n",
    "xtraj, utraj, rtraj = test_utils.sample_traj(At, Bt, Qt, Rt, learned_ctrl, Tref, d0, sigma=0)\n",
    "xopt, uopt, ropt = test_utils.sample_traj(At, Bt, Qt, Rt, static_opt_ctrl, Tref, d0, sigma=0)\n",
    "vi_ctrlr = test_utils.TVcontroller(Kvi[:])\n",
    "xvi, uvi, rvi = test_utils.sample_traj(At, Bt, Qt, Rt, vi_ctrlr.ctrl, Tref, d0, sigma=0)\n",
    "\n",
    "if p == 2:\n",
    "    # Planar\n",
    "    plt.plot(ref[0::2], ref[1::2], 'x-', label='reference')\n",
    "    plt.plot(xtraj[:-1,0], xtraj[:-1, 1], '+--', label='learned')\n",
    "    plt.plot(xvi[:,0], xvi[:, 1], '+--', label='opt-dyn')\n",
    "    plt.plot(xopt[:,0], xopt[:, 1], '+--', label='opt-sta')\n",
    "    plt.legend()"
   ]
  },
  {
   "cell_type": "markdown",
   "id": "943d943e",
   "metadata": {},
   "source": [
    "## III. Trajectory generation with dynamic regularization (1D)"
   ]
  },
  {
   "cell_type": "code",
   "execution_count": 37,
   "id": "98e8ad62",
   "metadata": {},
   "outputs": [],
   "source": [
    "p = 1\n",
    "q = 1\n",
    "sigma = 0\n",
    "A, B = test_utils.random_env(p, q, Anorm=0.99)\n",
    "Q, R = 10 * np.eye(p), np.eye(q)\n",
    "Tref = 15\n",
    "# Construct augmented system for tracking\n",
    "At, Bt, Qt, Rt = lstd.nominal_to_tracking(A, B, Q, R, Tref)\n",
    "# Solve for a static tracking controller by directly solving DARE\n",
    "Pstar = spl.solve_discrete_are(At, Bt, Qt, Rt)\n",
    "Kstar = -np.linalg.pinv(Bt.T @ Pstar @ Bt + Rt) @ (Bt.T @ Pstar @ At)\n",
    "static_opt_ctrl = test_utils.linear_feedback_controller(Kstar)\n",
    "# Solve for dynamic tracking controller with VI\n",
    "Pvi, Kvi = test_utils.lqr_vi(At, Bt, Qt, Rt, Tref)"
   ]
  },
  {
   "cell_type": "code",
   "execution_count": 38,
   "id": "331dfc0f",
   "metadata": {},
   "outputs": [],
   "source": [
    "# Ref traj specifications\n",
    "waypoints = [0, np.random.randn(), np.random.randn(), 1]\n",
    "ts = [0, 0.33, 0.66, 1]\n",
    "order = 6"
   ]
  },
  {
   "cell_type": "code",
   "execution_count": 39,
   "id": "88343ba1",
   "metadata": {},
   "outputs": [],
   "source": [
    "# Collect trajectory\n",
    "ctrl = test_utils.random_controller(q)\n",
    "num_trajs = 1000\n",
    "T = Tref\n",
    "xtrajs, utrajs, rtrajs = [], [], []\n",
    "for _ in range(num_trajs):\n",
    "    # Sample a reference trajectory\n",
    "    #ref = test_utils.sample_ref_traj(p, T, order=8).flatten(order='F')\n",
    "    #ref = trajgen.min_jerk(waypoints, ts, order, Tref)[1]\n",
    "    ref = np.random.randn(p*(T+2))\n",
    "    # Collect trajectory using random tracking controller\n",
    "    xtraj, utraj, rtraj = test_utils.sample_traj(At, Bt, Qt, Rt, ctrl, T, ref, sigma=sigma)\n",
    "    xtrajs.append(xtraj)\n",
    "    utrajs.append(utraj)\n",
    "    rtrajs.append(rtraj)\n",
    "traj = lstd.construct_traj_list(xtrajs, utrajs, rtrajs)"
   ]
  },
  {
   "cell_type": "code",
   "execution_count": 40,
   "id": "f9c257a5",
   "metadata": {
    "scrolled": true
   },
   "outputs": [
    {
     "name": "stderr",
     "output_type": "stream",
     "text": [
      "  2%|██▌                                                                                                                                                                           | 3/200 [00:10<11:50,  3.61s/it]\n"
     ]
    }
   ],
   "source": [
    "# Train a tracking controller\n",
    "K0 = np.random.random((q, p))\n",
    "K, P = lstd.lspi(traj, 0.99, max_iter=200, sigma=sigma)\n",
    "learned_ctrl = test_utils.linear_feedback_controller(K)"
   ]
  },
  {
   "cell_type": "code",
   "execution_count": 43,
   "id": "a2532d5e",
   "metadata": {
    "scrolled": false
   },
   "outputs": [
    {
     "name": "stdout",
     "output_type": "stream",
     "text": [
      "Failed to generate trajectory\n",
      "Failed to generate trajectory\n",
      "Failed to generate trajectory\n",
      "Failed to generate trajectory\n"
     ]
    },
    {
     "data": {
      "image/png": "[encoded data removed]",
      "text/plain": [
       "<Figure size 1440x720 with 4 Axes>"
      ]
     },
     "metadata": {
      "needs_background": "light"
     },
     "output_type": "display_data"
    }
   ],
   "source": [
    "# Spline trajectory\n",
    "waypoints = [1, np.random.randn(), np.random.randn(), 1]\n",
    "rhos = np.logspace(-4, 2, 8)\n",
    "\n",
    "plt.figure(figsize=(20, 10))\n",
    "for i, rho in enumerate(rhos):\n",
    "    ret = trajgen.min_jerk(waypoints, ts, 8, Tref, P=Pvi, rho=rho)\n",
    "    if ret is None:\n",
    "        continue\n",
    "    else:\n",
    "        _, ref, tc = ret\n",
    "    d0 = np.concatenate([[waypoints[0]], ref])\n",
    "    xtraj, utraj, rtraj = test_utils.sample_traj(At, Bt, Qt, Rt, learned_ctrl, Tref, d0, sigma=0)\n",
    "    xopt, uopt, ropt = test_utils.sample_traj(At, Bt, Qt, Rt, static_opt_ctrl, Tref, d0, sigma=0)\n",
    "    vi_ctrlr = test_utils.TVcontroller(Kvi[:])\n",
    "    xvi, uvi, rvi = test_utils.sample_traj(At, Bt, Qt, Rt, vi_ctrlr.ctrl, Tref, d0, sigma=0)\n",
    "\n",
    "    plt.subplot(2, int(len(rhos)/2), i+1)\n",
    "    plt.plot(np.arange(Tref+1), ref, 'x-', label='reference')\n",
    "    plt.plot(np.arange(Tref+1), xtraj[:,0], '+--', label='learned')\n",
    "    plt.plot(np.arange(Tref+1), xvi[:,0], '+--', label='opt')\n",
    "    plt.legend()\n",
    "    plt.title(r'$\\rho$={:.3f}, Tracking Cost={:.3f}'.format(rho, tc))"
   ]
  },
  {
   "cell_type": "code",
   "execution_count": null,
   "id": "54c13476",
   "metadata": {},
   "outputs": [],
   "source": []
  },
  {
   "cell_type": "code",
   "execution_count": null,
   "id": "6123ef8d",
   "metadata": {},
   "outputs": [],
   "source": []
  },
  {
   "cell_type": "code",
   "execution_count": null,
   "id": "3bd5f8ba",
   "metadata": {},
   "outputs": [],
   "source": []
  },
  {
   "cell_type": "code",
   "execution_count": null,
   "id": "b30fee14",
   "metadata": {},
   "outputs": [],
   "source": []
  },
  {
   "cell_type": "code",
   "execution_count": null,
   "id": "0834ae69",
   "metadata": {},
   "outputs": [],
   "source": []
  },
  {
   "cell_type": "code",
   "execution_count": null,
   "id": "61ab6e05",
   "metadata": {},
   "outputs": [],
   "source": []
  },
  {
   "cell_type": "code",
   "execution_count": null,
   "id": "f0f3df2c",
   "metadata": {},
   "outputs": [],
   "source": []
  },
  {
   "cell_type": "code",
   "execution_count": null,
   "id": "0dbc9961",
   "metadata": {},
   "outputs": [],
   "source": []
  },
  {
   "cell_type": "code",
   "execution_count": null,
   "id": "fca7a495",
   "metadata": {},
   "outputs": [],
   "source": []
  },
  {
   "cell_type": "code",
   "execution_count": null,
   "id": "469a3b7a",
   "metadata": {},
   "outputs": [],
   "source": []
  },
  {
   "cell_type": "code",
   "execution_count": null,
   "id": "6e7421a5",
   "metadata": {},
   "outputs": [],
   "source": []
  }
 ],
 "metadata": {
  "kernelspec": {
   "display_name": "general",
   "language": "python",
   "name": "general"
  },
  "language_info": {
   "codemirror_mode": {
    "name": "ipython",
    "version": 3
   },
   "file_extension": ".py",
   "mimetype": "text/x-python",
   "name": "python",
   "nbconvert_exporter": "python",
   "pygments_lexer": "ipython3",
   "version": "3.8.10"
  }
 },
 "nbformat": 4,
 "nbformat_minor": 5
}